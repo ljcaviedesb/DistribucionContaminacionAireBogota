{
 "cells": [
  {
   "cell_type": "code",
   "execution_count": 1,
   "id": "a519e349",
   "metadata": {},
   "outputs": [],
   "source": [
    "import pandas as pd\n",
    "import numpy as np\n",
    "import seaborn as sns"
   ]
  },
  {
   "cell_type": "code",
   "execution_count": 2,
   "id": "63c473c8",
   "metadata": {},
   "outputs": [],
   "source": [
    "files=['datos_obs/StationsReport_2022118104831.xlsx',\n",
    "       'datos_obs/StationsReport_2022118104921.xlsx',\n",
    "       'datos_obs/StationsReport_2022118104959.xlsx',\n",
    "       'datos_obs/StationsReport_2022118105125.xlsx',\n",
    "       'datos_obs/StationsReport_2022118105244.xlsx',\n",
    "       'datos_obs/StationsReport_202211810526.xlsx',\n",
    "       'datos_obs/StationsReport_2022118105338.xlsx',\n",
    "       'datos_obs/StationsReport_2022118105430.xlsx',\n",
    "       'datos_obs/StationsReport_2022118105514.xlsx']\n",
    "Vel_Viento={}\n",
    "Dir_Viento={}\n",
    "Vel_Viento_x={}\n",
    "Vel_Viento_y={}\n",
    "Vel_Media_x={}\n",
    "Vel_Media_y={}\n",
    "PM25={}"
   ]
  },
  {
   "cell_type": "code",
   "execution_count": 3,
   "id": "0c1f86fd",
   "metadata": {},
   "outputs": [
    {
     "name": "stdout",
     "output_type": "stream",
     "text": [
      "Carvajal - Sevillana\n",
      "Centro de Alto Rendimiento\n",
      "Ciudad Bolivar\n",
      "Colina\n",
      "Fontibon\n",
      "Jazmin\n",
      "MinAmbiente\n",
      "Movil 7ma\n",
      "Kennedy\n",
      "Las Ferias\n",
      "San Cristobal\n",
      "Suba\n",
      "Tunal\n",
      "Usaquen\n"
     ]
    }
   ],
   "source": [
    "PM2=0\n",
    "PM10=0\n",
    "for file in files:\n",
    "    df=pd.read_excel(file)\n",
    "    stations=list(df.iloc[1].dropna()[0:])\n",
    "    if 'DateTime' in stations:\n",
    "        stations.remove('DateTime')\n",
    "    df=df[2:-11]\n",
    "    index=list(df.iloc[0])\n",
    "    index[0]='DateTime'\n",
    "    df.columns=index\n",
    "    df=df[4:].reset_index(drop='True')\n",
    "    df2=df[['Vel Viento','Dir Viento']]\n",
    "    df2=df2[df2.iloc[:,0]!='----']\n",
    "    df2=df2[df2.iloc[:,1]!='----']\n",
    "    if len(list(df2.columns))>2:\n",
    "        df2=df2[df2.iloc[:,2]!='----'] \n",
    "        df2=df2[df2.iloc[:,3]!='----']\n",
    "    for i in range(int(len(list(df2.columns))/2)):\n",
    "        print(stations[i])\n",
    "        Vel_Viento[stations[i]]=list(df2.iloc[:,i*2])\n",
    "        Vel_Viento[stations[i]]=np.array([x for x in Vel_Viento[stations[i]] if x!='----'])\n",
    "        Dir_Viento[stations[i]]=list(df2.iloc[:,i*2+1])\n",
    "        Dir_Viento[stations[i]]=np.array([x for x in Dir_Viento[stations[i]] if x!='----'])\n",
    "        Vel_Viento_x[stations[i]]=Vel_Viento[stations[i]]*np.sin(np.pi*Dir_Viento[stations[i]]/180)\n",
    "        Vel_Viento_y[stations[i]]=Vel_Viento[stations[i]]*np.cos(np.pi*Dir_Viento[stations[i]]/180)\n",
    "        Vel_Media_x[stations[i]]=Vel_Viento_x[stations[i]].mean()\n",
    "        Vel_Media_y[stations[i]]=Vel_Viento_y[stations[i]].mean()\n",
    "        if 'PM2.5' in list(df.columns):\n",
    "            mean=df['PM2.5'][df['PM2.5']!='----'].mean()\n",
    "            if isinstance(mean,float):\n",
    "                PM25[stations[i]]=df['PM2.5'][df['PM2.5']!='----'].mean()\n",
    "            else:\n",
    "                PM25[stations[i]]=df['PM2.5'][df['PM2.5']!='----'].mean()[i]"
   ]
  },
  {
   "cell_type": "code",
   "execution_count": 4,
   "id": "96367ce3",
   "metadata": {},
   "outputs": [],
   "source": [
    "stations=list(Vel_Viento.keys())"
   ]
  },
  {
   "cell_type": "code",
   "execution_count": 5,
   "id": "6ce3df6f",
   "metadata": {},
   "outputs": [],
   "source": [
    "stations_grid={'Carvajal - Sevillana':[70,125],\n",
    " 'Centro de Alto Rendimiento':[120,210],\n",
    " 'Ciudad Bolivar':[30,50],\n",
    " 'Colina':[55,330],\n",
    " 'Fontibon':[30,180],\n",
    " 'Jazmin':[150,120],\n",
    " 'MinAmbiente':[170,180],\n",
    " 'Movil 7ma':[170,200],\n",
    " 'Kennedy':[30,150],\n",
    " 'Las Ferias':[65,205],\n",
    " 'San Cristobal':[160,40],\n",
    " 'Suba':[3,300],\n",
    " 'Tunal':[90,50],\n",
    " 'Usaquen':[170,300]}"
   ]
  },
  {
   "cell_type": "code",
   "execution_count": 6,
   "id": "c42b355a",
   "metadata": {},
   "outputs": [
    {
     "name": "stdout",
     "output_type": "stream",
     "text": [
      "Carvajal - Sevillana\n",
      "Centro de Alto Rendimiento\n",
      "Ciudad Bolivar\n",
      "Colina\n",
      "Fontibon\n",
      "Jazmin\n",
      "MinAmbiente\n",
      "Movil 7ma\n",
      "Kennedy\n",
      "Las Ferias\n",
      "San Cristobal\n",
      "Suba\n",
      "Tunal\n",
      "Usaquen\n"
     ]
    }
   ],
   "source": [
    "wind_speed_x=np.zeros((180,400))\n",
    "wind_speed_y=np.zeros((180,400))\n",
    "for key in list(stations_grid.keys()):\n",
    "    print(key)\n",
    "    x=stations_grid[key][0]\n",
    "    y=stations_grid[key][1]\n",
    "    A_x=Vel_Media_x[key]\n",
    "    A_y=Vel_Media_y[key]\n",
    "    for i in range(wind_speed_x.shape[0]):\n",
    "        for j in range(wind_speed_x.shape[1]):\n",
    "            r=np.sqrt((x-i)**2+(y-j)**2)\n",
    "            wind_speed_x[i][j]+=A_x*np.exp(-(r/100)**2)\n",
    "            wind_speed_y[i][j]+=A_y*np.exp(-(r/100)**2)"
   ]
  },
  {
   "cell_type": "code",
   "execution_count": 10,
   "id": "d7039b2a",
   "metadata": {},
   "outputs": [],
   "source": [
    "data=open('viento_x.csv','w')\n",
    "line=''\n",
    "for j in range(400):\n",
    "    for i in range(180):\n",
    "        line=line+str(wind_speed_x[i][j])+','\n",
    "line=line[:-1]+'\\n'\n",
    "data.write(line)\n",
    "data.close()"
   ]
  },
  {
   "cell_type": "code",
   "execution_count": 11,
   "id": "b8c3ab54",
   "metadata": {},
   "outputs": [],
   "source": [
    "data=open('viento_y.csv','w')\n",
    "line=''\n",
    "for j in range(400):\n",
    "    for i in range(180):\n",
    "        line=line+str(wind_speed_y[i][j])+','\n",
    "line=line[:-1]+'\\n'\n",
    "data.write(line)\n",
    "data.close()"
   ]
  },
  {
   "cell_type": "code",
   "execution_count": null,
   "id": "50a8e433",
   "metadata": {},
   "outputs": [],
   "source": []
  }
 ],
 "metadata": {
  "kernelspec": {
   "display_name": "Python 3 (ipykernel)",
   "language": "python",
   "name": "python3"
  },
  "language_info": {
   "codemirror_mode": {
    "name": "ipython",
    "version": 3
   },
   "file_extension": ".py",
   "mimetype": "text/x-python",
   "name": "python",
   "nbconvert_exporter": "python",
   "pygments_lexer": "ipython3",
   "version": "3.10.8"
  }
 },
 "nbformat": 4,
 "nbformat_minor": 5
}
